{
 "cells": [
  {
   "cell_type": "code",
   "execution_count": 1,
   "metadata": {},
   "outputs": [],
   "source": [
    "import numpy as np\n",
    "import matplotlib.pyplot as plt\n",
    "%matplotlib inline\n",
    "\n",
    "from sklearn.datasets import load_digits\n",
    "from sklearn.model_selection import train_test_split\n"
   ]
  },
  {
   "cell_type": "code",
   "execution_count": 2,
   "metadata": {},
   "outputs": [],
   "source": [
    "digits = load_digits()\n",
    "n_obs = digits.images.shape[0]\n",
    "\n",
    "# shape: n_obs x n_features\n",
    "X = digits.images.reshape((n_obs,-1))\n",
    "# shape: n_obs\n",
    "y = digits.target\n",
    "\n",
    "n_classes = len(np.unique(digits.target))\n",
    "\n",
    "X_train, X_test, y_train, y_test = train_test_split(X, y, test_size=0.33, random_state=42)"
   ]
  },
  {
   "cell_type": "code",
   "execution_count": 3,
   "metadata": {},
   "outputs": [],
   "source": [
    "from sklearn.neighbors import KNeighborsClassifier\n",
    "from sklearn.metrics import confusion_matrix, accuracy_score\n",
    "from sklearn.model_selection import GridSearchCV"
   ]
  },
  {
   "cell_type": "code",
   "execution_count": 4,
   "metadata": {},
   "outputs": [
    {
     "data": {
      "text/plain": [
       "GridSearchCV(cv=5, error_score='raise',\n",
       "       estimator=KNeighborsClassifier(algorithm='auto', leaf_size=30, metric='minkowski',\n",
       "           metric_params=None, n_jobs=1, n_neighbors=1, p=2,\n",
       "           weights='uniform'),\n",
       "       fit_params=None, iid=True, n_jobs=1,\n",
       "       param_grid=[{'n_neighbors': range(1, 6)}], pre_dispatch='2*n_jobs',\n",
       "       refit=True, return_train_score='warn', scoring='accuracy',\n",
       "       verbose=0)"
      ]
     },
     "execution_count": 4,
     "metadata": {},
     "output_type": "execute_result"
    }
   ],
   "source": [
    "param_grid =[{'n_neighbors': range(1,6)}]\n",
    "gs = GridSearchCV(KNeighborsClassifier(1), param_grid, cv=5, scoring='accuracy')\n",
    "gs.fit(X_train, y_train)"
   ]
  },
  {
   "cell_type": "code",
   "execution_count": 5,
   "metadata": {},
   "outputs": [
    {
     "name": "stdout",
     "output_type": "stream",
     "text": [
      "score: 0.983 (+-0.006) time: 1.65e-03 params: {'n_neighbors': 1}\n",
      "score: 0.978 (+-0.006) time: 1.50e-03 params: {'n_neighbors': 2}\n",
      "score: 0.981 (+-0.002) time: 1.54e-03 params: {'n_neighbors': 3}\n",
      "score: 0.975 (+-0.006) time: 1.58e-03 params: {'n_neighbors': 4}\n",
      "score: 0.977 (+-0.009) time: 1.53e-03 params: {'n_neighbors': 5}\n"
     ]
    }
   ],
   "source": [
    "means = gs.cv_results_['mean_test_score']\n",
    "stds = gs.cv_results_['std_test_score']\n",
    "times = gs.cv_results_['mean_fit_time']\n",
    "\n",
    "for (mean,std,time,param) in zip(means,stds,times,gs.cv_results_['params']):\n",
    "    print('score: %0.3f (+-%0.3f) time: %4.2e params: %s' % (mean,std,time,param))"
   ]
  },
  {
   "cell_type": "code",
   "execution_count": 7,
   "metadata": {},
   "outputs": [
    {
     "name": "stdout",
     "output_type": "stream",
     "text": [
      "[[55  0  0  0  0  0  0  0  0  0]\n",
      " [ 0 55  0  0  0  0  0  0  0  0]\n",
      " [ 0  0 52  0  0  0  0  0  0  0]\n",
      " [ 0  0  0 55  0  0  0  0  1  0]\n",
      " [ 0  1  0  0 63  0  0  0  0  0]\n",
      " [ 0  0  0  0  0 72  0  0  0  1]\n",
      " [ 0  0  0  0  0  0 57  0  0  0]\n",
      " [ 0  0  0  0  0  0  0 61  0  1]\n",
      " [ 0  1  0  0  0  0  0  0 50  1]\n",
      " [ 0  0  0  2  1  0  0  0  0 65]]\n",
      "0.98\n"
     ]
    }
   ],
   "source": [
    "# we can just call predict on gs: it will be used the best built model\n",
    "# according to metric\n",
    "y_p = gs.predict(X_test)\n",
    "\n",
    "print(confusion_matrix(y_test, y_p))\n",
    "print('%.2f' % accuracy_score(y_test, y_p))"
   ]
  },
  {
   "cell_type": "code",
   "execution_count": 9,
   "metadata": {},
   "outputs": [
    {
     "name": "stdout",
     "output_type": "stream",
     "text": [
      "[[55  0  0  0  0  0  0  0  0  0]\n",
      " [ 0 55  0  0  0  0  0  0  0  0]\n",
      " [ 0  0 52  0  0  0  0  0  0  0]\n",
      " [ 0  0  0 55  0  0  0  0  1  0]\n",
      " [ 0  1  0  0 63  0  0  0  0  0]\n",
      " [ 0  0  0  0  0 72  0  0  0  1]\n",
      " [ 0  0  0  0  0  0 57  0  0  0]\n",
      " [ 0  0  0  0  0  0  0 61  0  1]\n",
      " [ 0  1  0  0  0  0  0  0 50  1]\n",
      " [ 0  0  0  2  1  0  0  0  0 65]]\n",
      "0.98\n"
     ]
    }
   ],
   "source": [
    "# check:\n",
    "knn = KNeighborsClassifier(n_neighbors=1)\n",
    "knn.fit(X_train, y_train)\n",
    "y_predict = knn.predict(X_test)\n",
    "print(confusion_matrix(y_test, y_predict))\n",
    "print('%.2f' % accuracy_score(y_test, y_predict))"
   ]
  },
  {
   "cell_type": "code",
   "execution_count": null,
   "metadata": {},
   "outputs": [],
   "source": []
  }
 ],
 "metadata": {
  "kernelspec": {
   "display_name": "Python 3",
   "language": "python",
   "name": "python3"
  },
  "language_info": {
   "codemirror_mode": {
    "name": "ipython",
    "version": 3
   },
   "file_extension": ".py",
   "mimetype": "text/x-python",
   "name": "python",
   "nbconvert_exporter": "python",
   "pygments_lexer": "ipython3",
   "version": "3.6.4"
  }
 },
 "nbformat": 4,
 "nbformat_minor": 2
}
