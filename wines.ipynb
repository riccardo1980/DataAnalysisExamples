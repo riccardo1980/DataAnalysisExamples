{
 "cells": [
  {
   "cell_type": "code",
   "execution_count": 1,
   "metadata": {},
   "outputs": [],
   "source": [
    "import matplotlib.pyplot as plt\n",
    "from mpl_toolkits.mplot3d import Axes3D\n",
    "import numpy as np\n",
    "%matplotlib inline\n",
    "\n",
    "from sklearn.datasets import load_wine\n",
    "from sklearn.preprocessing import StandardScaler\n",
    "from sklearn.decomposition import PCA"
   ]
  },
  {
   "cell_type": "code",
   "execution_count": 2,
   "metadata": {},
   "outputs": [],
   "source": [
    "# print info on dataset\n",
    "dataset = load_wine()\n",
    "\n",
    "# preprocessing (normalization)\n",
    "# mu = np.mean( dataset.data, axis=0 )\n",
    "# sigma = np.std( dataset.data, axis=0 )\n",
    "# data_norm = (dataset.data - mu) / sigma\n",
    "\n",
    "scaler = StandardScaler()\n",
    "scaler.fit(dataset.data)\n",
    "data = scaler.transform(dataset.data)\n"
   ]
  },
  {
   "cell_type": "code",
   "execution_count": 15,
   "metadata": {},
   "outputs": [
    {
     "data": {
      "text/plain": [
       "<matplotlib.legend.Legend at 0x7fc3e76eb0f0>"
      ]
     },
     "execution_count": 15,
     "metadata": {},
     "output_type": "execute_result"
    },
    {
     "data": {
      "image/png": "[encoded data removed]",
      "text/plain": [
       "<matplotlib.figure.Figure at 0x7fc3e78e1be0>"
      ]
     },
     "metadata": {},
     "output_type": "display_data"
    }
   ],
   "source": [
    "# exploratory analysis using PCA\n",
    "pca = PCA()\n",
    "pca.fit(data)\n",
    "y = pca.transform(data)\n",
    "\n",
    "for ii in range(3):\n",
    "    plt.scatter(y[dataset.target == ii,0], y[dataset.target == ii,1], label=ii)\n",
    "\n",
    "plt.legend()"
   ]
  },
  {
   "cell_type": "code",
   "execution_count": null,
   "metadata": {},
   "outputs": [],
   "source": [
    "# Eigenspectrum\n",
    "fig = plt.figure()\n",
    "ax1, ax2 = fig.subplots(1,2)\n",
    "ax1.bar(range(0,dataset.data.shape[1]), pca.singular_values_)\n",
    "ax2.bar(range(0,dataset.data.shape[1]), pca.explained_variance_ratio_)"
   ]
  },
  {
   "cell_type": "code",
   "execution_count": null,
   "metadata": {},
   "outputs": [],
   "source": []
  }
 ],
 "metadata": {
  "kernelspec": {
   "display_name": "Python 3",
   "language": "python",
   "name": "python3"
  },
  "language_info": {
   "codemirror_mode": {
    "name": "ipython",
    "version": 3
   },
   "file_extension": ".py",
   "mimetype": "text/x-python",
   "name": "python",
   "nbconvert_exporter": "python",
   "pygments_lexer": "ipython3",
   "version": "3.6.4"
  }
 },
 "nbformat": 4,
 "nbformat_minor": 2
}
